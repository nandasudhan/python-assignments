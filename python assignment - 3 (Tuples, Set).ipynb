{
 "cells": [
  {
   "cell_type": "markdown",
   "id": "c33f109d",
   "metadata": {},
   "source": [
    "Write a Python Program to implement your own myreduce() function which works exactly\n",
    "like Python's built-in function reduce()"
   ]
  },
  {
   "cell_type": "code",
   "execution_count": 19,
   "id": "c96773b2",
   "metadata": {},
   "outputs": [
    {
     "name": "stdout",
     "output_type": "stream",
     "text": [
      "Sum of numbers using myreduce: 15\n"
     ]
    }
   ],
   "source": [
    "def myreduce(func, iterable, initial=None):\n",
    "    # If an initial value is not provided, take the first element of the iterable\n",
    "    if initial is None:\n",
    "        result = iterable[0]\n",
    "        iterable = iterable[1:]\n",
    "    else:\n",
    "        result = initial\n",
    "\n",
    "    # Apply the function cumulatively to the items of the iterable\n",
    "    for item in iterable:\n",
    "        result = func(result, item)\n",
    "    \n",
    "    return result\n",
    "\n",
    "# Test the myreduce function\n",
    "numbers = [1, 2, 3, 4, 5]\n",
    "\n",
    "# Sum of all numbers using myreduce\n",
    "sum_of_numbers = myreduce(lambda x, y: x + y, numbers)\n",
    "print(\"Sum of numbers using myreduce:\", sum_of_numbers)\n"
   ]
  },
  {
   "cell_type": "code",
   "execution_count": null,
   "id": "274bf72e",
   "metadata": {},
   "outputs": [],
   "source": []
  },
  {
   "cell_type": "markdown",
   "id": "9fcfb18e",
   "metadata": {},
   "source": [
    "2. Write a Python program to implement your own myfilter() function which works exactly\n",
    "like Python's built-in function filter()"
   ]
  },
  {
   "cell_type": "code",
   "execution_count": 26,
   "id": "981d24b1",
   "metadata": {},
   "outputs": [
    {
     "name": "stdout",
     "output_type": "stream",
     "text": [
      "Even numbers using myfilter: [2, 4]\n"
     ]
    }
   ],
   "source": [
    "def myfilter(func, iterable):\n",
    "    filtered_list = []\n",
    "    \n",
    "    # Apply the function to each element of the iterable\n",
    "    for item in iterable:\n",
    "        if func(item):\n",
    "            filtered_list.append(item)\n",
    "    return filtered_list\n",
    "\n",
    "# Test the myfilter function\n",
    "numbers = [1, 2, 3, 4, 5]\n",
    "\n",
    "# Filter even numbers using myfilter\n",
    "even_numbers = myfilter(lambda x: x % 2 == 0, numbers)\n",
    "print(\"Even numbers using myfilter:\", even_numbers)\n"
   ]
  },
  {
   "cell_type": "code",
   "execution_count": null,
   "id": "c50f09b8",
   "metadata": {},
   "outputs": [],
   "source": []
  },
  {
   "cell_type": "markdown",
   "id": "6f36972f",
   "metadata": {},
   "source": [
    "3. Write List comprehensions to produce the following Lists"
   ]
  },
  {
   "cell_type": "code",
   "execution_count": 27,
   "id": "adbe41cf",
   "metadata": {},
   "outputs": [
    {
     "name": "stdout",
     "output_type": "stream",
     "text": [
      "['x', 'xx', 'xxx', 'xxxx', 'y', 'yy', 'yyy', 'yyyy', 'z', 'zz', 'zzz', 'zzzz']\n"
     ]
    }
   ],
   "source": [
    "#1. ['x', 'xx', 'xxx', 'xxxx', 'y', 'yy', 'yyy', 'yyyy', 'z', 'zz', 'zzz', 'zzzz']\n",
    "\n",
    "# List comprehension to produce the given list\n",
    "list = [char * num for char in 'xyz' for num in range(1, 5)]\n",
    "\n",
    "# Print the result\n",
    "print(list)"
   ]
  },
  {
   "cell_type": "code",
   "execution_count": 28,
   "id": "a61a171b",
   "metadata": {},
   "outputs": [
    {
     "name": "stdout",
     "output_type": "stream",
     "text": [
      "['x', 'y', 'z', 'xx', 'yy', 'zz', 'xxx', 'yyy', 'zzz', 'xxxx', 'yyyy', 'zzzz']\n"
     ]
    }
   ],
   "source": [
    "#2. ['x', 'y', 'z', 'xx', 'yy', 'zz', 'xxx', 'yyy', 'zzz', 'xxxx', 'yyyy', 'zzzz']\n",
    "\n",
    "# List comprehension to produce the given list\n",
    "list = [char * num for num in range(1, 5) for char in 'xyz']\n",
    "\n",
    "# Print the result\n",
    "print(list)\n"
   ]
  },
  {
   "cell_type": "code",
   "execution_count": 29,
   "id": "0a8e73f0",
   "metadata": {},
   "outputs": [
    {
     "name": "stdout",
     "output_type": "stream",
     "text": [
      "[[2], [3], [4], [3], [4], [5], [4], [5], [6]]\n"
     ]
    }
   ],
   "source": [
    "#3. [[2], [3], [4], [3], [4], [5], [4], [5], [6]]\n",
    "\n",
    "# list comprehension\n",
    "list = [[num + i] for i in range(3) for num in range(2, 5)]\n",
    "\n",
    "# Print the result\n",
    "print(list)\n"
   ]
  },
  {
   "cell_type": "code",
   "execution_count": 30,
   "id": "22c19c19",
   "metadata": {},
   "outputs": [
    {
     "name": "stdout",
     "output_type": "stream",
     "text": [
      "[[2, 3, 4, 5], [3, 4, 5, 6], [4, 5, 6, 7], [5, 6, 7, 8]]\n"
     ]
    }
   ],
   "source": [
    "#4. [[2, 3, 4, 5], [3, 4, 5, 6], [4, 5, 6, 7], [5, 6, 7, 8]]\n",
    "\n",
    "# list comprehension\n",
    "list = [[num + i for num in range(2, 6)] for i in range(4)]\n",
    "\n",
    "# Print the result\n",
    "print(list)\n"
   ]
  },
  {
   "cell_type": "code",
   "execution_count": 31,
   "id": "a66d03af",
   "metadata": {},
   "outputs": [
    {
     "name": "stdout",
     "output_type": "stream",
     "text": [
      "[(1, 1), (2, 1), (3, 1), (1, 2), (2, 2), (3, 2), (1, 3), (2, 3), (3, 3)]\n"
     ]
    }
   ],
   "source": [
    "#5 [(1, 1), (2, 1), (3, 1), (1, 2), (2, 2), (3, 2), (1, 3), (2, 3), (3, 3)]\n",
    "\n",
    "# List comprehension\n",
    "list = [(j, i) for i in range(1, 4) for j in range(1, 4)]\n",
    "\n",
    "# Print the result\n",
    "print(list)\n"
   ]
  },
  {
   "cell_type": "code",
   "execution_count": null,
   "id": "24cf306d",
   "metadata": {},
   "outputs": [],
   "source": []
  },
  {
   "cell_type": "code",
   "execution_count": null,
   "id": "29815112",
   "metadata": {},
   "outputs": [],
   "source": []
  }
 ],
 "metadata": {
  "kernelspec": {
   "display_name": "Python 3 (ipykernel)",
   "language": "python",
   "name": "python3"
  },
  "language_info": {
   "codemirror_mode": {
    "name": "ipython",
    "version": 3
   },
   "file_extension": ".py",
   "mimetype": "text/x-python",
   "name": "python",
   "nbconvert_exporter": "python",
   "pygments_lexer": "ipython3",
   "version": "3.9.13"
  }
 },
 "nbformat": 4,
 "nbformat_minor": 5
}

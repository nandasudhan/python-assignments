{
 "cells": [
  {
   "cell_type": "raw",
   "id": "944363dd",
   "metadata": {},
   "source": [
    "Create the below pattern using nested for loop in Python.\n",
    "*\n",
    "* *\n",
    "* * *\n",
    "* * * *\n",
    "* * * * *\n",
    "* * * *\n",
    "* * *\n",
    "* *\n",
    "*"
   ]
  },
  {
   "cell_type": "code",
   "execution_count": 1,
   "id": "ac3d5e43",
   "metadata": {},
   "outputs": [
    {
     "name": "stdout",
     "output_type": "stream",
     "text": [
      "* \n",
      "* * \n",
      "* * * \n",
      "* * * * \n",
      "* * * * * \n",
      "* * * * \n",
      "* * * \n",
      "* * \n",
      "* \n"
     ]
    }
   ],
   "source": [
    "num_rows = 5\n",
    "\n",
    "for i in range(num_rows):\n",
    "    for j in range(i + 1):\n",
    "        print(\"*\", end=\" \")\n",
    "    print()\n",
    "for i in range(num_rows - 1, 0, -1):\n",
    "    for j in range(i):\n",
    "        print(\"*\", end=\" \")\n",
    "    print()"
   ]
  },
  {
   "cell_type": "markdown",
   "id": "44553b2b",
   "metadata": {},
   "source": [
    "2. Write a Python program to reverse a word after accepting the input from the user."
   ]
  },
  {
   "cell_type": "code",
   "execution_count": 3,
   "id": "15783abd",
   "metadata": {},
   "outputs": [
    {
     "name": "stdout",
     "output_type": "stream",
     "text": [
      "Enter a word: ineuron\n",
      "Reversed word: norueni\n"
     ]
    }
   ],
   "source": [
    "word = input(\"Enter a word: \")\n",
    "reversed_word = word[::-1]\n",
    "print(\"Reversed word:\", reversed_word)"
   ]
  },
  {
   "cell_type": "code",
   "execution_count": null,
   "id": "497a7bf5",
   "metadata": {},
   "outputs": [],
   "source": []
  }
 ],
 "metadata": {
  "kernelspec": {
   "display_name": "Python 3 (ipykernel)",
   "language": "python",
   "name": "python3"
  },
  "language_info": {
   "codemirror_mode": {
    "name": "ipython",
    "version": 3
   },
   "file_extension": ".py",
   "mimetype": "text/x-python",
   "name": "python",
   "nbconvert_exporter": "python",
   "pygments_lexer": "ipython3",
   "version": "3.9.13"
  }
 },
 "nbformat": 4,
 "nbformat_minor": 5
}

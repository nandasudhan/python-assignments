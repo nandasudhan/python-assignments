{
 "cells": [
  {
   "cell_type": "markdown",
   "id": "5e79c6e2",
   "metadata": {},
   "source": [
    "Write a Python Program(with class concepts) to find the area of the triangle using the below\n",
    "formula.\n",
    "area = (s*(s-a)*(s-b)*(s-c)) ** 0.5\n",
    "Function to take the length of the sides of triangle from user should be defined in the parent\n",
    "class and function to calculate the area should be defined in subclass."
   ]
  },
  {
   "cell_type": "code",
   "execution_count": 2,
   "id": "fb9a7c27",
   "metadata": {},
   "outputs": [
    {
     "name": "stdout",
     "output_type": "stream",
     "text": [
      "Enter the length of side a: 4\n",
      "Enter the length of side b: 5\n",
      "Enter the length of side c: 6\n",
      "Area of the triangle: 9.921567416492215\n"
     ]
    }
   ],
   "source": [
    "class triangle:\n",
    "    def __init__(self, a, b, c):\n",
    "        self.a = a\n",
    "        self.b = b\n",
    "        self.c = c\n",
    "\n",
    "class area_calculator(triangle):\n",
    "    def calculate_area(self):\n",
    "        s = (self.a + self.b + self.c) / 2\n",
    "        area = (s * (s - self.a) * (s - self.b) * (s - self.c)) ** 0.5\n",
    "        return area\n",
    "\n",
    "# Get the lengths of the sides of the triangle from the user\n",
    "a = float(input(\"Enter the length of side a: \"))\n",
    "b = float(input(\"Enter the length of side b: \"))\n",
    "c = float(input(\"Enter the length of side c: \"))\n",
    "\n",
    "triangle = area_calculator(a, b, c)\n",
    "\n",
    "# Calculate and print the area of the triangle\n",
    "print(\"Area of the triangle:\", triangle.calculate_area())\n"
   ]
  },
  {
   "cell_type": "code",
   "execution_count": null,
   "id": "a363e79b",
   "metadata": {},
   "outputs": [],
   "source": []
  },
  {
   "cell_type": "markdown",
   "id": "7c700f7f",
   "metadata": {},
   "source": [
    "2. Write a function filter_long_words() that takes a list of words and an integer n and returns\n",
    "the list of words that are longer than n."
   ]
  },
  {
   "cell_type": "code",
   "execution_count": 44,
   "id": "c06c2f04",
   "metadata": {},
   "outputs": [],
   "source": [
    "def filter_long_words(word_list, n):\n",
    "    filtered_word =[]\n",
    "    for word in word_list:\n",
    "        if len(word) > n:\n",
    "            filtered_word.append(word)\n",
    "    return(filtered_word)"
   ]
  },
  {
   "cell_type": "code",
   "execution_count": 45,
   "id": "aa73e123",
   "metadata": {},
   "outputs": [
    {
     "data": {
      "text/plain": [
       "['banana', 'orange']"
      ]
     },
     "execution_count": 45,
     "metadata": {},
     "output_type": "execute_result"
    }
   ],
   "source": [
    "word_list = [\"apple\", \"banana\", \"orange\", \"grape\", \"kiwi\"]\n",
    "n = 5\n",
    "filter_long_words(word_list, n)"
   ]
  },
  {
   "cell_type": "code",
   "execution_count": null,
   "id": "a70f1253",
   "metadata": {},
   "outputs": [],
   "source": []
  },
  {
   "cell_type": "markdown",
   "id": "b0ff7fea",
   "metadata": {},
   "source": [
    "Write a Python program using function concept that maps list of words into a list of integers\n",
    "representing the lengths of the corresponding words.\n",
    "Hint: If a list [ ab,cde,erty] is passed on to the python function output should come as [2,3,4]\n",
    "Here 2,3 and 4 are the lengths of the words in the list."
   ]
  },
  {
   "cell_type": "code",
   "execution_count": 51,
   "id": "a6e7b1e9",
   "metadata": {},
   "outputs": [],
   "source": [
    "def word_lengths(word_list):\n",
    "    \n",
    "    lengths = []\n",
    "    \n",
    "    for word in word_list:\n",
    "        length = len(word)\n",
    "        lengths.append(length)\n",
    "    \n",
    "    return lengths"
   ]
  },
  {
   "cell_type": "code",
   "execution_count": 52,
   "id": "00a8836e",
   "metadata": {},
   "outputs": [
    {
     "name": "stdout",
     "output_type": "stream",
     "text": [
      "Lengths of words: [2, 3, 4]\n"
     ]
    }
   ],
   "source": [
    "words = [\"ab\", \"cde\", \"erty\"]\n",
    "lengths = word_lengths(words)\n",
    "print(\"Lengths of words:\", lengths)"
   ]
  },
  {
   "cell_type": "code",
   "execution_count": null,
   "id": "110bb659",
   "metadata": {},
   "outputs": [],
   "source": []
  },
  {
   "cell_type": "markdown",
   "id": "3af011c4",
   "metadata": {},
   "source": [
    "4.Write a Python function which takes a character (i.e. a string of length 1) and returns True if\n",
    "it is a vowel, False otherwise."
   ]
  },
  {
   "cell_type": "code",
   "execution_count": 53,
   "id": "a62c92e0",
   "metadata": {},
   "outputs": [],
   "source": [
    "def is_vowel(char):\n",
    "    char = char.lower()\n",
    "    \n",
    "    if char in 'aeiou':\n",
    "        return True\n",
    "    else:\n",
    "        return False"
   ]
  },
  {
   "cell_type": "code",
   "execution_count": 56,
   "id": "632a8fde",
   "metadata": {},
   "outputs": [
    {
     "data": {
      "text/plain": [
       "False"
      ]
     },
     "execution_count": 56,
     "metadata": {},
     "output_type": "execute_result"
    }
   ],
   "source": [
    "is_vowel(\"k\")"
   ]
  },
  {
   "cell_type": "code",
   "execution_count": 57,
   "id": "89d27b03",
   "metadata": {},
   "outputs": [
    {
     "data": {
      "text/plain": [
       "True"
      ]
     },
     "execution_count": 57,
     "metadata": {},
     "output_type": "execute_result"
    }
   ],
   "source": [
    "is_vowel(\"i\")"
   ]
  },
  {
   "cell_type": "code",
   "execution_count": null,
   "id": "d713cab0",
   "metadata": {},
   "outputs": [],
   "source": []
  }
 ],
 "metadata": {
  "kernelspec": {
   "display_name": "Python 3 (ipykernel)",
   "language": "python",
   "name": "python3"
  },
  "language_info": {
   "codemirror_mode": {
    "name": "ipython",
    "version": 3
   },
   "file_extension": ".py",
   "mimetype": "text/x-python",
   "name": "python",
   "nbconvert_exporter": "python",
   "pygments_lexer": "ipython3",
   "version": "3.9.13"
  }
 },
 "nbformat": 4,
 "nbformat_minor": 5
}
